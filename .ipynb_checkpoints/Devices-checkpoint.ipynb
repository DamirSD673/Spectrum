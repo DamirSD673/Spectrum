{
 "cells": [
  {
   "cell_type": "code",
   "execution_count": 1,
   "id": "contrary-aluminum",
   "metadata": {},
   "outputs": [
    {
     "name": "stdout",
     "output_type": "stream",
     "text": [
      "0 HD-Audio Generic: HDMI 0 (hw:0,3)\n",
      "1 HD-Audio Generic: ALC256 Analog (hw:1,0)\n",
      "2 hdmi\n",
      "3 pulse\n",
      "4 default\n"
     ]
    }
   ],
   "source": [
    "import pyaudio\n",
    "p = pyaudio.PyAudio()\n",
    "for i in range(p.get_device_count()):\n",
    "    print(i, p.get_device_info_by_index(i)['name'])"
   ]
  },
  {
   "cell_type": "code",
   "execution_count": null,
   "id": "genetic-testimony",
   "metadata": {},
   "outputs": [],
   "source": []
  }
 ],
 "metadata": {
  "kernelspec": {
   "display_name": "Python 3",
   "language": "python",
   "name": "python3"
  },
  "language_info": {
   "codemirror_mode": {
    "name": "ipython",
    "version": 3
   },
   "file_extension": ".py",
   "mimetype": "text/x-python",
   "name": "python",
   "nbconvert_exporter": "python",
   "pygments_lexer": "ipython3",
   "version": "3.9.5"
  }
 },
 "nbformat": 4,
 "nbformat_minor": 5
}
